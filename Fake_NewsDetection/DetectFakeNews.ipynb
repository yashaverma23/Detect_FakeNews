{
 "cells": [
  {
   "cell_type": "markdown",
   "id": "b347ca7f-26fb-4744-9351-682963fa4a6e",
   "metadata": {
    "tags": []
   },
   "source": [
    "# Detect Fake News"
   ]
  },
  {
   "cell_type": "raw",
   "id": "6ed7cee3-6be4-4b4d-92cc-fa5eeff40f27",
   "metadata": {},
   "source": [
    "1. drop id column\n",
    "2. drop duplicate values\n",
    "3. target column --- EDA\n",
    "4. Check title and text --- each first rows "
   ]
  },
  {
   "cell_type": "code",
   "execution_count": 2,
   "id": "82723065-2a47-4857-8949-c9b442db8f3b",
   "metadata": {},
   "outputs": [],
   "source": [
    "#Importing Libraries\n",
    "import numpy as np\n",
    "import pandas as pd\n",
    "import matplotlib.pyplot as plt\n",
    "import seaborn as sns \n",
    "import warnings\n",
    "warnings.filterwarnings('ignore')"
   ]
  },
  {
   "cell_type": "code",
   "execution_count": 3,
   "id": "1a769667-1f9c-4245-a617-64927d5ee4a6",
   "metadata": {},
   "outputs": [
    {
     "data": {
      "text/html": [
       "<div>\n",
       "<style scoped>\n",
       "    .dataframe tbody tr th:only-of-type {\n",
       "        vertical-align: middle;\n",
       "    }\n",
       "\n",
       "    .dataframe tbody tr th {\n",
       "        vertical-align: top;\n",
       "    }\n",
       "\n",
       "    .dataframe thead th {\n",
       "        text-align: right;\n",
       "    }\n",
       "</style>\n",
       "<table border=\"1\" class=\"dataframe\">\n",
       "  <thead>\n",
       "    <tr style=\"text-align: right;\">\n",
       "      <th></th>\n",
       "      <th>Unnamed: 0</th>\n",
       "      <th>title</th>\n",
       "      <th>text</th>\n",
       "      <th>label</th>\n",
       "    </tr>\n",
       "  </thead>\n",
       "  <tbody>\n",
       "    <tr>\n",
       "      <th>0</th>\n",
       "      <td>8476</td>\n",
       "      <td>You Can Smell Hillary’s Fear</td>\n",
       "      <td>Daniel Greenfield, a Shillman Journalism Fello...</td>\n",
       "      <td>FAKE</td>\n",
       "    </tr>\n",
       "    <tr>\n",
       "      <th>1</th>\n",
       "      <td>10294</td>\n",
       "      <td>Watch The Exact Moment Paul Ryan Committed Pol...</td>\n",
       "      <td>Google Pinterest Digg Linkedin Reddit Stumbleu...</td>\n",
       "      <td>FAKE</td>\n",
       "    </tr>\n",
       "    <tr>\n",
       "      <th>2</th>\n",
       "      <td>3608</td>\n",
       "      <td>Kerry to go to Paris in gesture of sympathy</td>\n",
       "      <td>U.S. Secretary of State John F. Kerry said Mon...</td>\n",
       "      <td>REAL</td>\n",
       "    </tr>\n",
       "    <tr>\n",
       "      <th>3</th>\n",
       "      <td>10142</td>\n",
       "      <td>Bernie supporters on Twitter erupt in anger ag...</td>\n",
       "      <td>— Kaydee King (@KaydeeKing) November 9, 2016 T...</td>\n",
       "      <td>FAKE</td>\n",
       "    </tr>\n",
       "    <tr>\n",
       "      <th>4</th>\n",
       "      <td>875</td>\n",
       "      <td>The Battle of New York: Why This Primary Matters</td>\n",
       "      <td>It's primary day in New York and front-runners...</td>\n",
       "      <td>REAL</td>\n",
       "    </tr>\n",
       "  </tbody>\n",
       "</table>\n",
       "</div>"
      ],
      "text/plain": [
       "   Unnamed: 0                                              title  \\\n",
       "0        8476                       You Can Smell Hillary’s Fear   \n",
       "1       10294  Watch The Exact Moment Paul Ryan Committed Pol...   \n",
       "2        3608        Kerry to go to Paris in gesture of sympathy   \n",
       "3       10142  Bernie supporters on Twitter erupt in anger ag...   \n",
       "4         875   The Battle of New York: Why This Primary Matters   \n",
       "\n",
       "                                                text label  \n",
       "0  Daniel Greenfield, a Shillman Journalism Fello...  FAKE  \n",
       "1  Google Pinterest Digg Linkedin Reddit Stumbleu...  FAKE  \n",
       "2  U.S. Secretary of State John F. Kerry said Mon...  REAL  \n",
       "3  — Kaydee King (@KaydeeKing) November 9, 2016 T...  FAKE  \n",
       "4  It's primary day in New York and front-runners...  REAL  "
      ]
     },
     "execution_count": 3,
     "metadata": {},
     "output_type": "execute_result"
    }
   ],
   "source": [
    "df = pd.read_csv('news.csv')\n",
    "df.head()"
   ]
  },
  {
   "cell_type": "code",
   "execution_count": 4,
   "id": "d5aa41db-8b84-4cd0-8d08-1ab5805493c5",
   "metadata": {},
   "outputs": [
    {
     "data": {
      "text/plain": [
       "Index(['Unnamed: 0', 'title', 'text', 'label'], dtype='object')"
      ]
     },
     "execution_count": 4,
     "metadata": {},
     "output_type": "execute_result"
    }
   ],
   "source": [
    "df.columns"
   ]
  },
  {
   "cell_type": "code",
   "execution_count": 5,
   "id": "3a888d1d-b323-41f3-ab9a-049054cc530a",
   "metadata": {},
   "outputs": [
    {
     "data": {
      "text/html": [
       "<div>\n",
       "<style scoped>\n",
       "    .dataframe tbody tr th:only-of-type {\n",
       "        vertical-align: middle;\n",
       "    }\n",
       "\n",
       "    .dataframe tbody tr th {\n",
       "        vertical-align: top;\n",
       "    }\n",
       "\n",
       "    .dataframe thead th {\n",
       "        text-align: right;\n",
       "    }\n",
       "</style>\n",
       "<table border=\"1\" class=\"dataframe\">\n",
       "  <thead>\n",
       "    <tr style=\"text-align: right;\">\n",
       "      <th></th>\n",
       "      <th>Unnamed: 0</th>\n",
       "      <th>title</th>\n",
       "      <th>text</th>\n",
       "      <th>label</th>\n",
       "    </tr>\n",
       "  </thead>\n",
       "  <tbody>\n",
       "    <tr>\n",
       "      <th>count</th>\n",
       "      <td>6335.000000</td>\n",
       "      <td>6335</td>\n",
       "      <td>6335</td>\n",
       "      <td>6335</td>\n",
       "    </tr>\n",
       "    <tr>\n",
       "      <th>unique</th>\n",
       "      <td>NaN</td>\n",
       "      <td>6256</td>\n",
       "      <td>6060</td>\n",
       "      <td>2</td>\n",
       "    </tr>\n",
       "    <tr>\n",
       "      <th>top</th>\n",
       "      <td>NaN</td>\n",
       "      <td>OnPolitics | 's politics blog</td>\n",
       "      <td>Killing Obama administration rules, dismantlin...</td>\n",
       "      <td>REAL</td>\n",
       "    </tr>\n",
       "    <tr>\n",
       "      <th>freq</th>\n",
       "      <td>NaN</td>\n",
       "      <td>5</td>\n",
       "      <td>58</td>\n",
       "      <td>3171</td>\n",
       "    </tr>\n",
       "    <tr>\n",
       "      <th>mean</th>\n",
       "      <td>5280.415627</td>\n",
       "      <td>NaN</td>\n",
       "      <td>NaN</td>\n",
       "      <td>NaN</td>\n",
       "    </tr>\n",
       "    <tr>\n",
       "      <th>std</th>\n",
       "      <td>3038.503953</td>\n",
       "      <td>NaN</td>\n",
       "      <td>NaN</td>\n",
       "      <td>NaN</td>\n",
       "    </tr>\n",
       "    <tr>\n",
       "      <th>min</th>\n",
       "      <td>2.000000</td>\n",
       "      <td>NaN</td>\n",
       "      <td>NaN</td>\n",
       "      <td>NaN</td>\n",
       "    </tr>\n",
       "    <tr>\n",
       "      <th>25%</th>\n",
       "      <td>2674.500000</td>\n",
       "      <td>NaN</td>\n",
       "      <td>NaN</td>\n",
       "      <td>NaN</td>\n",
       "    </tr>\n",
       "    <tr>\n",
       "      <th>50%</th>\n",
       "      <td>5271.000000</td>\n",
       "      <td>NaN</td>\n",
       "      <td>NaN</td>\n",
       "      <td>NaN</td>\n",
       "    </tr>\n",
       "    <tr>\n",
       "      <th>75%</th>\n",
       "      <td>7901.000000</td>\n",
       "      <td>NaN</td>\n",
       "      <td>NaN</td>\n",
       "      <td>NaN</td>\n",
       "    </tr>\n",
       "    <tr>\n",
       "      <th>max</th>\n",
       "      <td>10557.000000</td>\n",
       "      <td>NaN</td>\n",
       "      <td>NaN</td>\n",
       "      <td>NaN</td>\n",
       "    </tr>\n",
       "  </tbody>\n",
       "</table>\n",
       "</div>"
      ],
      "text/plain": [
       "          Unnamed: 0                          title  \\\n",
       "count    6335.000000                           6335   \n",
       "unique           NaN                           6256   \n",
       "top              NaN  OnPolitics | 's politics blog   \n",
       "freq             NaN                              5   \n",
       "mean     5280.415627                            NaN   \n",
       "std      3038.503953                            NaN   \n",
       "min         2.000000                            NaN   \n",
       "25%      2674.500000                            NaN   \n",
       "50%      5271.000000                            NaN   \n",
       "75%      7901.000000                            NaN   \n",
       "max     10557.000000                            NaN   \n",
       "\n",
       "                                                     text label  \n",
       "count                                                6335  6335  \n",
       "unique                                               6060     2  \n",
       "top     Killing Obama administration rules, dismantlin...  REAL  \n",
       "freq                                                   58  3171  \n",
       "mean                                                  NaN   NaN  \n",
       "std                                                   NaN   NaN  \n",
       "min                                                   NaN   NaN  \n",
       "25%                                                   NaN   NaN  \n",
       "50%                                                   NaN   NaN  \n",
       "75%                                                   NaN   NaN  \n",
       "max                                                   NaN   NaN  "
      ]
     },
     "execution_count": 5,
     "metadata": {},
     "output_type": "execute_result"
    }
   ],
   "source": [
    "df.describe(include= 'all')"
   ]
  },
  {
   "cell_type": "code",
   "execution_count": 6,
   "id": "6bfa8ec2-d886-4636-9462-fc86d3197449",
   "metadata": {},
   "outputs": [
    {
     "name": "stdout",
     "output_type": "stream",
     "text": [
      "<class 'pandas.core.frame.DataFrame'>\n",
      "RangeIndex: 6335 entries, 0 to 6334\n",
      "Data columns (total 4 columns):\n",
      " #   Column      Non-Null Count  Dtype \n",
      "---  ------      --------------  ----- \n",
      " 0   Unnamed: 0  6335 non-null   int64 \n",
      " 1   title       6335 non-null   object\n",
      " 2   text        6335 non-null   object\n",
      " 3   label       6335 non-null   object\n",
      "dtypes: int64(1), object(3)\n",
      "memory usage: 198.1+ KB\n"
     ]
    }
   ],
   "source": [
    "df.info()"
   ]
  },
  {
   "cell_type": "code",
   "execution_count": 7,
   "id": "304c7b7b-8142-4439-b733-46b64ed29f25",
   "metadata": {},
   "outputs": [
    {
     "data": {
      "text/plain": [
       "Unnamed: 0     int64\n",
       "title         object\n",
       "text          object\n",
       "label         object\n",
       "dtype: object"
      ]
     },
     "execution_count": 7,
     "metadata": {},
     "output_type": "execute_result"
    }
   ],
   "source": [
    "df.dtypes"
   ]
  },
  {
   "cell_type": "markdown",
   "id": "06e1140c-7354-4fd6-a051-b316798e3da0",
   "metadata": {},
   "source": [
    "# Missing Value Treatment"
   ]
  },
  {
   "cell_type": "code",
   "execution_count": 8,
   "id": "6a056cfe-4c49-4882-80a4-2ba2ee73dd26",
   "metadata": {},
   "outputs": [
    {
     "data": {
      "text/plain": [
       "Unnamed: 0    0\n",
       "title         0\n",
       "text          0\n",
       "label         0\n",
       "dtype: int64"
      ]
     },
     "execution_count": 8,
     "metadata": {},
     "output_type": "execute_result"
    }
   ],
   "source": [
    "df.isnull().sum()"
   ]
  },
  {
   "cell_type": "code",
   "execution_count": 9,
   "id": "76dd8359-ec5d-4fb6-99fb-f15f09f16669",
   "metadata": {},
   "outputs": [
    {
     "data": {
      "text/plain": [
       "Unnamed: 0    0.0\n",
       "title         0.0\n",
       "text          0.0\n",
       "label         0.0\n",
       "dtype: float64"
      ]
     },
     "execution_count": 9,
     "metadata": {},
     "output_type": "execute_result"
    }
   ],
   "source": [
    "df.isnull().sum()/len(df)*100"
   ]
  },
  {
   "cell_type": "code",
   "execution_count": 10,
   "id": "f6e0cc0c-fce1-43fe-971f-88f861252d4c",
   "metadata": {},
   "outputs": [
    {
     "data": {
      "text/plain": [
       "<AxesSubplot:>"
      ]
     },
     "execution_count": 10,
     "metadata": {},
     "output_type": "execute_result"
    },
    {
     "data": {
      "image/png": "[encoded data removed]",
      "text/plain": [
       "<Figure size 1080x432 with 2 Axes>"
      ]
     },
     "metadata": {
      "needs_background": "light"
     },
     "output_type": "display_data"
    }
   ],
   "source": [
    "plt.figure(figsize=(15,6))\n",
    "sns.heatmap(df.isnull())"
   ]
  },
  {
   "cell_type": "code",
   "execution_count": 11,
   "id": "b32e5799-6405-47cd-992d-7f772b5c466e",
   "metadata": {},
   "outputs": [
    {
     "data": {
      "text/plain": [
       "<AxesSubplot:xlabel='Unnamed: 0', ylabel='count'>"
      ]
     },
     "execution_count": 11,
     "metadata": {},
     "output_type": "execute_result"
    },
    {
     "data": {
      "image/png": "[encoded data removed]",
      "text/plain": [
       "<Figure size 1800x720 with 1 Axes>"
      ]
     },
     "metadata": {
      "needs_background": "light"
     },
     "output_type": "display_data"
    }
   ],
   "source": [
    "plt.figure(figsize=(25,10))\n",
    "sns.countplot(x='Unnamed: 0',data=df)"
   ]
  },
  {
   "cell_type": "code",
   "execution_count": 12,
   "id": "c92e5c8b-57a6-437a-acc8-39fa24c1f568",
   "metadata": {},
   "outputs": [
    {
     "data": {
      "image/png": "[encoded data removed]",
      "text/plain": [
       "<Figure size 1440x720 with 1 Axes>"
      ]
     },
     "metadata": {
      "needs_background": "light"
     },
     "output_type": "display_data"
    }
   ],
   "source": [
    "plt.figure(figsize=(20,10))\n",
    "plt.violinplot(df['Unnamed: 0'])\n",
    "plt.show()"
   ]
  },
  {
   "cell_type": "code",
   "execution_count": 13,
   "id": "720f4d98-02f8-40f9-ae82-7eec36f79a6c",
   "metadata": {},
   "outputs": [],
   "source": [
    "df.drop('Unnamed: 0',axis=1,inplace=True)"
   ]
  },
  {
   "cell_type": "code",
   "execution_count": 14,
   "id": "7079b90c-a58a-4a52-a390-64b276276902",
   "metadata": {},
   "outputs": [],
   "source": [
    "df.drop('text',axis=1,inplace=True)"
   ]
  },
  {
   "cell_type": "code",
   "execution_count": 15,
   "id": "95dca826-6f89-46b4-bb73-32a2037b9f4e",
   "metadata": {},
   "outputs": [
    {
     "data": {
      "text/plain": [
       "6256"
      ]
     },
     "execution_count": 15,
     "metadata": {},
     "output_type": "execute_result"
    }
   ],
   "source": [
    "df['title'].nunique()"
   ]
  },
  {
   "cell_type": "code",
   "execution_count": 16,
   "id": "bdba8155-944e-449c-a6ac-6ffcd84225f6",
   "metadata": {
    "tags": []
   },
   "outputs": [
    {
     "data": {
      "text/plain": [
       "79"
      ]
     },
     "execution_count": 16,
     "metadata": {},
     "output_type": "execute_result"
    }
   ],
   "source": [
    "df['title'].duplicated().sum()"
   ]
  },
  {
   "cell_type": "code",
   "execution_count": 17,
   "id": "c9fb8300-879e-49ab-b2d9-0dd58e82dfad",
   "metadata": {},
   "outputs": [],
   "source": [
    "#df.drop_duplicates(subset = 'title',inplace=True)"
   ]
  },
  {
   "cell_type": "code",
   "execution_count": 18,
   "id": "a02efe60-4143-4a17-a5f3-f934f861f332",
   "metadata": {},
   "outputs": [
    {
     "name": "stdout",
     "output_type": "stream",
     "text": [
      "<class 'pandas.core.frame.DataFrame'>\n",
      "RangeIndex: 6335 entries, 0 to 6334\n",
      "Data columns (total 2 columns):\n",
      " #   Column  Non-Null Count  Dtype \n",
      "---  ------  --------------  ----- \n",
      " 0   title   6335 non-null   object\n",
      " 1   label   6335 non-null   object\n",
      "dtypes: object(2)\n",
      "memory usage: 99.1+ KB\n"
     ]
    }
   ],
   "source": [
    "df.info()"
   ]
  },
  {
   "cell_type": "code",
   "execution_count": 19,
   "id": "b5071a05-0540-4f61-a94f-4810eb772789",
   "metadata": {},
   "outputs": [
    {
     "data": {
      "text/html": [
       "<div>\n",
       "<style scoped>\n",
       "    .dataframe tbody tr th:only-of-type {\n",
       "        vertical-align: middle;\n",
       "    }\n",
       "\n",
       "    .dataframe tbody tr th {\n",
       "        vertical-align: top;\n",
       "    }\n",
       "\n",
       "    .dataframe thead th {\n",
       "        text-align: right;\n",
       "    }\n",
       "</style>\n",
       "<table border=\"1\" class=\"dataframe\">\n",
       "  <thead>\n",
       "    <tr style=\"text-align: right;\">\n",
       "      <th></th>\n",
       "      <th>title</th>\n",
       "      <th>label</th>\n",
       "    </tr>\n",
       "  </thead>\n",
       "  <tbody>\n",
       "    <tr>\n",
       "      <th>0</th>\n",
       "      <td>You Can Smell Hillary’s Fear</td>\n",
       "      <td>FAKE</td>\n",
       "    </tr>\n",
       "    <tr>\n",
       "      <th>1</th>\n",
       "      <td>Watch The Exact Moment Paul Ryan Committed Pol...</td>\n",
       "      <td>FAKE</td>\n",
       "    </tr>\n",
       "    <tr>\n",
       "      <th>2</th>\n",
       "      <td>Kerry to go to Paris in gesture of sympathy</td>\n",
       "      <td>REAL</td>\n",
       "    </tr>\n",
       "    <tr>\n",
       "      <th>3</th>\n",
       "      <td>Bernie supporters on Twitter erupt in anger ag...</td>\n",
       "      <td>FAKE</td>\n",
       "    </tr>\n",
       "    <tr>\n",
       "      <th>4</th>\n",
       "      <td>The Battle of New York: Why This Primary Matters</td>\n",
       "      <td>REAL</td>\n",
       "    </tr>\n",
       "  </tbody>\n",
       "</table>\n",
       "</div>"
      ],
      "text/plain": [
       "                                               title label\n",
       "0                       You Can Smell Hillary’s Fear  FAKE\n",
       "1  Watch The Exact Moment Paul Ryan Committed Pol...  FAKE\n",
       "2        Kerry to go to Paris in gesture of sympathy  REAL\n",
       "3  Bernie supporters on Twitter erupt in anger ag...  FAKE\n",
       "4   The Battle of New York: Why This Primary Matters  REAL"
      ]
     },
     "execution_count": 19,
     "metadata": {},
     "output_type": "execute_result"
    }
   ],
   "source": [
    "df.head()"
   ]
  },
  {
   "cell_type": "code",
   "execution_count": 20,
   "id": "7b23650b-4c94-4d86-8099-47675e593d48",
   "metadata": {},
   "outputs": [],
   "source": [
    "# importing libraries\n",
    "import nltk\n",
    "import re\n",
    "from nltk.corpus import stopwords as sw\n",
    "from nltk.stem import WordNetLemmatizer\n",
    "from sklearn.feature_extraction.text import CountVectorizer"
   ]
  },
  {
   "cell_type": "code",
   "execution_count": 21,
   "id": "0ac5dc8a-472f-4ac7-abc9-be4aef97d5e5",
   "metadata": {},
   "outputs": [],
   "source": [
    "wd=WordNetLemmatizer()\n",
    "corpus=[]\n",
    "for i in range(0,len(df)):\n",
    "    title = re.sub('[^a-zA-Z]',' ',df['title'][i])\n",
    "    title = title.lower()\n",
    "    title = title.split()\n",
    "    \n",
    "    title = [wd.lemmatize(word) for word in title if not word in sw.words('English')]\n",
    "    title = ' '.join(title)\n",
    "    corpus.append(title)"
   ]
  },
  {
   "cell_type": "code",
   "execution_count": 22,
   "id": "3a9be59a-ae7a-4850-b3cb-cf265f649463",
   "metadata": {
    "scrolled": true,
    "tags": []
   },
   "outputs": [
    {
     "data": {
      "text/plain": [
       "['smell hillary fear',\n",
       " 'watch exact moment paul ryan committed political suicide trump rally video',\n",
       " 'kerry go paris gesture sympathy',\n",
       " 'bernie supporter twitter erupt anger dnc tried warn',\n",
       " 'battle new york primary matter',\n",
       " 'tehran usa',\n",
       " 'girl horrified watch boyfriend left facetime',\n",
       " 'britain schindler dy',\n",
       " 'fact check trump clinton commander chief forum',\n",
       " 'iran reportedly make new push uranium concession nuclear talk',\n",
       " 'three clinton iowa glimpse fire eluded hillary clinton campaign',\n",
       " 'donald trump shockingly weak delegate game somehow got even worse',\n",
       " 'strong solar storm tech risk today news oct video',\n",
       " 'way america preparing world war',\n",
       " 'trump take cruz lightly',\n",
       " 'woman lead differently',\n",
       " 'shocking michele obama hillary caught glamorizing date rape promoter',\n",
       " 'hillary clinton huge trouble america noticed sick thing hidden picture liberty writer news',\n",
       " 'iran bill obama like',\n",
       " 'chart explains everything need know partisanship america',\n",
       " 'slippery slope trump proposed ban muslim',\n",
       " 'episode sunday wire hail deplorables special guest randy j',\n",
       " 'hillary clinton make bipartisan appeal staten island',\n",
       " 'new senate majority leader main goal gop scary',\n",
       " 'inferno overpopulation myth',\n",
       " 'anti trump force seek last ditch delegate revolt',\n",
       " 'sander trounces clinton w va make difference',\n",
       " 'donald trump changing campaign slogan prove racist',\n",
       " 'pure chaos donald trump campaign management offer glimpse governing style spoiler alert terrible',\n",
       " 'syrian war report november syrian military deploys advanced battle tank aleppo',\n",
       " 'gop insider carly crushed',\n",
       " 'jeffrey sewell et al metabiology face face artificial intelligence video',\n",
       " 'necessary relax stretch',\n",
       " 'brexit encourages uk trade non eu state including russia',\n",
       " 'interview socrates another day life empire near endgame fool ever hope change',\n",
       " 'mike penny drape shawl immodest lady justice statue onion america finest news source',\n",
       " 'first ever hindu woman elected congress',\n",
       " 'donald groped hillary trump weiner sext',\n",
       " 'ex assistant fbi director clinton crime family',\n",
       " 'hillary want aggressively interventionist foreign policy',\n",
       " 'party want craft populist message',\n",
       " 'first take wall street bid goodbye june hike',\n",
       " 'real disclosure secret alien base found moon tycho crater',\n",
       " 'homeless woman protects trump walk fame star violent leftist',\n",
       " 'tweet storm saturday clinton continues mock trump friday meltdown',\n",
       " 'significant pipeline spill already year expose troubling safety record',\n",
       " 'obama make right call tough afghanistan',\n",
       " 'senate race ranking dems attack gop lay swing state groundwork',\n",
       " 'know boy want raped court throw muslim migrant child sex charge german shock',\n",
       " 'pieczenik rogue fbi agent wikileaks spearheading movement stop clinton stealing white house truthfeed',\n",
       " 'american politics reached peak polarization',\n",
       " 'anti muhammad cartoon contest free speech deliberately provocative video',\n",
       " 'effect substance abuse individual family community',\n",
       " 'tree shaped vertical farm grow acre urban crop',\n",
       " 'new comment feature added',\n",
       " 'world newspaper react hebdo attack',\n",
       " 'ying yang gold silver set',\n",
       " 'closed primary warped democracy',\n",
       " 'police turn badge rather incite violence standing rock protestors',\n",
       " 'donald trump hillary clinton caused tremendous death',\n",
       " 'detroit woman halloween decoration depict real life horror shooting police police',\n",
       " 'biden make another surprise political stop',\n",
       " 'hillary clinton declining favorability number context',\n",
       " 'comment quid pro quo wikileaks email reveals clinton campaign eyeing paul ryan relative supreme court lenore lee',\n",
       " 'hillary clinton criminal investigation keep moving forward',\n",
       " 'rubio parting shot trump',\n",
       " 'loretta lynch becomes first african american woman ag',\n",
       " 'funny republican upset facebook column',\n",
       " 'fbi checking orlando shooter wife knew attack plan warn police',\n",
       " 'google youtube hillary purse',\n",
       " 'handicapping hispanic vote gopers',\n",
       " 'truth radio laconia incident',\n",
       " 'gop establishment nightmare ted cruz v donald trump',\n",
       " 'bernie sander lost poor voter south carolina big margin problem political revolution',\n",
       " 'get botox',\n",
       " 'jeb bush pick endorsement lindsey graham',\n",
       " 'republican race enters new volatile phase',\n",
       " 'hand shoot built lie',\n",
       " 'lavrov kerry discus syrian settlement',\n",
       " 'breaking doj say help review k email truthfeed',\n",
       " 'bernie sander call ouster two convention co chair rejected',\n",
       " 'five reason new york democratic primary felt competitive',\n",
       " 'get around congress obama turn city hall',\n",
       " 'celebrity deathmatch darkmoon sage make final prediction u election',\n",
       " 'john kerry isi responsible genocide',\n",
       " 'mitt romney invention anti poverty warrior',\n",
       " 'king fill supreme court vacancy',\n",
       " 'ted cruz toast president day senate numbered',\n",
       " 'obama speech selma answer question love america',\n",
       " 'bernie sander go',\n",
       " 'exclusive gop campaign plot revolt rnc',\n",
       " 'revelation unleashed unlocking mystery bible mysterious book',\n",
       " 'silent counter coup intel agency stop crooked clinton video',\n",
       " 'hillary clinton bernie sander town hall',\n",
       " 'french police hunt two brother accused charlie hebdo terror attack',\n",
       " 'mandela effect made one overlooked year old man ascended master video proof',\n",
       " 'cnn one voter make difference voting repeatedly',\n",
       " 'give social security recipient ceo style raise',\n",
       " 'firework erupt trump bush rubio cruz gop debate',\n",
       " 'obama sounding like critic admits complete strategy iraq',\n",
       " 'ted cruz became ted cruz',\n",
       " 'newly approved gm potato potential silence human gene',\n",
       " 'accord reached sander sue dnc suspended access critical voter list',\n",
       " 'latest patriot act reform enough rein nsa',\n",
       " 'fbi expands probe clinton email launch independent classification review',\n",
       " 'gary johnson',\n",
       " 'arcturian group marilyn raffaele october video',\n",
       " 'nuclear weapon question',\n",
       " 'kevin macdonald celebrates trump amazing victory',\n",
       " 'amazing aqutru water filter version stock snagged unit natural news reader deep discount',\n",
       " 'happens clinton drop',\n",
       " 'brother id suicide bomber belgium',\n",
       " 'glorifying violence',\n",
       " 'russia may run patience respond usa rudeness',\n",
       " 'david duke show hillary treason trump duke win',\n",
       " 'blame immigrant san francisco shooting',\n",
       " 'netanyahu allow israel submerged refugee',\n",
       " 'apocalypse trump voter warn revolution clinton win',\n",
       " 'geo engineering unlikely work conservation group say',\n",
       " 'question ahead tonight democratic debate',\n",
       " 'obama terror strategy failing u must heed lesson',\n",
       " 'bernie need ground pulp leaked email john podesta february',\n",
       " 'selma year john lewis recall march',\n",
       " 'long overdue presidential assassination anyway',\n",
       " 'flip flop vox warns serious risk election day violence good kind either',\n",
       " 'third party presidential candidate fight poll spot debate',\n",
       " 'bush rubio kasich eye one another shadow trump',\n",
       " 'comey must explain advised obama publicly accuse russia hacking democrat',\n",
       " 'putin congratulates trump say russia ready restore relation u',\n",
       " 'monsieur malbrough est mort new eastern outlook',\n",
       " 'conspiracy theory swirl around death antonin scalia',\n",
       " 'one election thread ehhh',\n",
       " 'mccain trump understand syria',\n",
       " 'trump manager say undercover voter deliver win u election',\n",
       " 'wikileaks bill clinton different bill cosby podestaemails',\n",
       " 'report megyn trash trump newt murdoch announces replacement available',\n",
       " 'suspect captured ambush style killing two iowa cop',\n",
       " 'thing every american know donald trump plan save u economy',\n",
       " 'next president big impact climate policy even without congress',\n",
       " 'look shocking number kid born illegals',\n",
       " 'mother daughter remind msnbc reporter trump black supporter',\n",
       " 'justice department staffer monitor poll election day',\n",
       " 'elizabeth warren blasted fbi director going hillary instead wall street crook',\n",
       " 'poll percent dems think clinton keep running even indicted',\n",
       " 'trumped',\n",
       " 'iran deal unraveling think institution',\n",
       " 'saturn baffling hexagon raging storm four time size earth changed color',\n",
       " 'cyrus mistry renames rohit sharma mistry get job back',\n",
       " 'fbi intervenes election',\n",
       " 'donald trump win year month day old first full day office',\n",
       " 'shutdown clash return force december',\n",
       " 'classless obama refuse photo op white house welcome trump',\n",
       " 'comment maryland trump supporter switched vote hillary misterdawg',\n",
       " 'stuff news one talking election',\n",
       " 'blizzard charge countercharge melt away opinion trump clinton frozen',\n",
       " 'social medium censoring fbi opened clinton email investigation',\n",
       " 'obama inch closer veto proof support iran nuclear deal',\n",
       " 'clinton plan stop sander momentum',\n",
       " 'martin malley praise senate democrat holding trade deal',\n",
       " 'shi ite militia join iraq mosul attack',\n",
       " 'super pac get early start pushing clinton campaign',\n",
       " 'christianity attack u must promote religious freedom',\n",
       " 'u taxpayer pay million dollar year privilege spying',\n",
       " 'video journalist shot militarized police standing rock conducting interview',\n",
       " 'buffett ran fed would raise rate significantly',\n",
       " 'tension russia even real',\n",
       " 'iran agrees nuclear restriction framework deal world power',\n",
       " 'comment constipation body constipation body thehealthology',\n",
       " 'fifteen quote proving false flag terrorism existence shadow government',\n",
       " 'bernie sander vast universe donor mapped',\n",
       " 'former ambassador andrew young call end water fluoridation civil right issue',\n",
       " 'trump new ad portraying every mother worst nightmare nothing short chilling',\n",
       " 'undercover video expose obama plan make american gun law like britain truthfeed',\n",
       " 'happened obama forget gop run congress',\n",
       " 'syrian war report november isi al nusra attempt cut govt supply line aleppo',\n",
       " 'christian celebrate halloween',\n",
       " 'sunday charleston worship emanuel ame',\n",
       " 'making matter worse syria',\n",
       " 'fact check hillary clinton speech democratic convention annotated',\n",
       " 'busted clinton foundation directly tied plot steal election',\n",
       " 'connecticut becomes first state boycott indiana lgbt discrimination law',\n",
       " 'scott walker confronts doubt grasp foreign policy',\n",
       " 'iran carry new ballistic missile test',\n",
       " 'assange donald trump allowed win clinton isi funded interest',\n",
       " 'joe biden get respect',\n",
       " 'come paul ryan must running right right',\n",
       " 'bernie sander need start winning big state big',\n",
       " 'leaked obama trade deal',\n",
       " 'michael moore admits woman ever melted ice cap bomb american history',\n",
       " 'someone telling truth freddie gray death',\n",
       " 'prison employee pleaded guilty aiding escape two murderer',\n",
       " 'culchie try explain rule one time',\n",
       " 'election day legal pot ohio democrat lose south',\n",
       " 'president trump colossal failure democracy terrifying new reality',\n",
       " 'go',\n",
       " 'raqqa mosul politician fiddle middle east burn',\n",
       " 'chris christie losing home state donor jeb bush make inroad',\n",
       " 'washington home depot store receives order five thousand gallon gold exterior paint',\n",
       " 'western lynch mob russia tie absurd anots information',\n",
       " 'sander rally supporter around clinton dnc email leak',\n",
       " 'historic climate deal sight nation parse final text',\n",
       " 'live time individual immense power',\n",
       " 'trump slam corrupt medium woman make sexual assault claim',\n",
       " 'demented imbecile want killary reign terror',\n",
       " 'anti trump advert side bus really visually clever see motion',\n",
       " 'american disconnected reality insouciant become euphemism',\n",
       " 'unspoken rule covering hillary clinton',\n",
       " 'hillary melt weiner public pic prove campaign imploding',\n",
       " 'clinton v trump latest electoral prediction greg laden blog science technology',\n",
       " 'jubilee year mercy end november following judgment',\n",
       " 'iraq launch operation isi anbar province',\n",
       " 'ukip meps steven woolfe mike hookem reported french police strasbourg scuffle',\n",
       " 'justice kennedy scalia divide gay right',\n",
       " 'justice clarence thomas describes washington dc broken',\n",
       " 'week picture week october onion america finest news source',\n",
       " 'jeb bush foreign policy plan military spending encourage peace',\n",
       " 'john kasich conservative least sane',\n",
       " 'audio emerges hillary clinton proposing rigging palestine election',\n",
       " 'authority search clue raid thwart potential belgian charlie hebdo attack',\n",
       " 'classic football banner time',\n",
       " 'tweetwave',\n",
       " 'trump gettysburg address new world order',\n",
       " 'debate goal democratic candidate',\n",
       " 'spinning speak email show pentagon ready roll benghazi attack occurred',\n",
       " 'case study obamacare lawsuit based mythical history',\n",
       " 'trump proudly declares people insulted deserved',\n",
       " 'dems sue gop trump rigged complaint',\n",
       " 'u airstrikes iraqi army slowing advance mosul',\n",
       " 'iran letter blowback startle gop',\n",
       " 'clinton camp desperate russia train wwiii',\n",
       " 'donald trump gop civil war',\n",
       " 'comment tainted measles vaccine kill child syria tragic death used promote vaccine fear fence vaccine',\n",
       " 'laura bush hint rather see hillary president',\n",
       " 'scott walker rick perry show limit super pac',\n",
       " 'catcall politically correct',\n",
       " 'hillary unleash wwiii information',\n",
       " 'time reconsider lifetime appointment supreme court',\n",
       " 'clinton delegate win dem nomination ap report sander question tally',\n",
       " 'hillary implodes trump took everything paid nothing support u',\n",
       " 'trump say obama born u period new birther dust',\n",
       " 'mh debris part missing plane next',\n",
       " 'google planned massive ai integrated social network spy tool hillary campaign',\n",
       " 'israel stole classified u information used help congressional republican',\n",
       " 'america simple ideology one russia top u expert explains america',\n",
       " 'poll show trump made point week like poll',\n",
       " 'chaos house floor dems republican clash lgbt proposal',\n",
       " 'new study link fluoride consumption hypothyroidism weight gain worse',\n",
       " 'clinton sander accuse trump inciting violence',\n",
       " 'memo next administration defense spending must actual defense',\n",
       " 'new response hillary clinton insists email setup matter convenience',\n",
       " 'trump mull alternative option making mexico finance wall',\n",
       " 'circus liar america three ring evil clown',\n",
       " 'donald trump said university education actually goal sell sell sell',\n",
       " 'trump forever changed american politics',\n",
       " 'kerry adviser marie harf twitter fight iran nuke',\n",
       " 'role u nato eu relation china manlio dinucci',\n",
       " 'daily many african american unenthusiastically settle hillary clinton',\n",
       " 'people come recent bernie sander rally',\n",
       " 'trump president mean world countercurrent org',\n",
       " 'fleeced congress grill kerry obama official iran nuke deal',\n",
       " 'page hacked wikileaks email teach u hillary clinton',\n",
       " 'comment breaking cdc block testimony senior scientist blew whistle severe medical malpractice cdc accused blocking testimony senior scientist new york malpractice injury lawyer blog',\n",
       " 'fox news admitted made story hillary indicted foundation',\n",
       " 'repudiating medium',\n",
       " 'buchanan smash cnn shill',\n",
       " 'impossible happening cub win world series yes hillary clinton likely indicted',\n",
       " 'america election gullible shattered david kerans',\n",
       " 'anderson cooper absolutely owns kellyanne conway fbi clear hillary video',\n",
       " 'schlonged nyt fbi reopened hillary probe thanks anthony weiner',\n",
       " 'american really think election coverage',\n",
       " 'exclusive siege islamabad',\n",
       " 'fix nbc affiliate accidentally post election result week early hillary win presidency trump',\n",
       " 'lynch school wingnuts right tried failed wound obama ag nominee',\n",
       " 'yes ted cruz could win',\n",
       " 'build wall hand small nyc anti trump protest streamed live',\n",
       " 'trump advisor try pivot fishtail',\n",
       " 'christian drop none soar new religion portrait',\n",
       " 'comment brother clinton campaign chair active foreign agent saudi arabian payroll marlene',\n",
       " 'inside deliberation hillary clinton campaign launch',\n",
       " 'american express disowns pink floyd singer roger water pro palestinian view',\n",
       " 'clinton condemns trump chicago violence',\n",
       " 'france growing debate speech protected',\n",
       " 'president elect donald trump first televised interview since election information',\n",
       " 'north carolina hillary supporter brag facebook voting multiple time',\n",
       " 'russia reacts un aid chief aleppo kill zone remark',\n",
       " 'representative government thugocracy',\n",
       " 'gay right religious liberty american',\n",
       " 'rand paul stall ted cruz seek pick support among libertarian',\n",
       " 'dream come true hillary clinton wall street journal editorial board rip ted cruz',\n",
       " 'obama press putin strike ukraine peace deal',\n",
       " 'trumka disappointment obama warning hillary',\n",
       " 'pro palestinian propaganda lowering standard truth america',\n",
       " 'wingnuts death grip congress paul ryan control house gop',\n",
       " 'lifting weight could ward dementia make smarter',\n",
       " 'people excited christmas advert told rest human culture',\n",
       " 'state department warns possible terror attack south africa',\n",
       " 'lost iraq',\n",
       " 'pope francis implores congress accept immigrant',\n",
       " 'poll trump gain iowa still dominates new hampshire',\n",
       " 'rand paul go senate floor protest nsa spying measure',\n",
       " 'china airport security robot give electroshock',\n",
       " 'obama detail disappointment netanyahu first post election comment',\n",
       " 'wikileaks neera tanden another ringing endorsement hillary really',\n",
       " 'reality check first clinton v trump presidential debate',\n",
       " 'doomsday election',\n",
       " 'john kasich advice woman prevent sexual assault avoid party lot alcohol',\n",
       " 'system set boehner failure',\n",
       " 'gay marriage victory supreme court triggering backlash',\n",
       " 'rode best jesse jackson mount fight pipeline leonardo dicaprio rescue',\n",
       " 'mccarthy drop speaker race house asks want job video',\n",
       " 'democrat republican tight race iowan prepare caucus',\n",
       " 'iran best outcome keep negotiating without reaching deal',\n",
       " 'nazi flying saucer permanent base antarctica',\n",
       " 'breaking man brag facebook voting time reveals',\n",
       " 'furious parent slam damaging bbc sex change show aimed six year old',\n",
       " 'trump family say trump brand damaged',\n",
       " 'rand paul flatlining',\n",
       " 'nurse chris christie quarantined ebola go governor vaccine',\n",
       " 'paul ryan donald trump coexist within republican party',\n",
       " 'cruz copying border wall trump say',\n",
       " 'john oliver america increasingly segregated school rarely equal way video',\n",
       " 'rise mandatory vaccination mean end medical freedom',\n",
       " 'scientist fascinated lake sea enter never come watch',\n",
       " 'jeb bush loses tv ad edge marco rubio',\n",
       " 'russia india discus fgfa advanced fighter su mki upgrade',\n",
       " 'real police race problem diverse force white resentment america persistent divide',\n",
       " 'supreme court cannot hide obamacare',\n",
       " 'breaking ted cruz call special prosecutor investigate hillary truthfeed',\n",
       " 'poll hillary clinton bernie sander top trump',\n",
       " 'donald trump revoke washington post press access video',\n",
       " 'real reason obamacare coming unglued',\n",
       " 'jeb bush avoid jon huntsman',\n",
       " 'revived clinton email scandal killed slew new fact record time',\n",
       " 'iraq sky darken islamic state torch oil',\n",
       " 'new yorkers fight overturn ballot selfie ban',\n",
       " 'poll find ben carson knock donald trump top spot nationally',\n",
       " 'glad surprising palestinian reaction netanyahu win',\n",
       " 'george w bush ethic lawyer file complaint fbi director james comey',\n",
       " 'netflix ceo tv future includes hallucination pill',\n",
       " 'ernst trump stop name calling',\n",
       " 'comment election beammeupscotty',\n",
       " 'debate duke say usa becoming banana republic',\n",
       " 'five fbi field office probing clinton charity adding fuel fire',\n",
       " 'white house gop failed put point board',\n",
       " 'daily presidency hillary clinton lose way could lose',\n",
       " 'democrat want bernie want bernie',\n",
       " 'podesta wiki leak prefer muslim christian',\n",
       " 'critic pounce madeleine albright exhortation woman back clinton',\n",
       " 'clinton double disputed claim fbi found email remark truthful',\n",
       " 'clinton haiti development plan succeed disappoint',\n",
       " 'course facebook biased real problem admit',\n",
       " 'tax calculator federal debt',\n",
       " 'trump adviser remain split far move toward middle',\n",
       " 'clinton final stretch winning anti trump contingent may best play',\n",
       " 'australian taxpayer charged million donation corrupt clinton foundation',\n",
       " 'vatican end scrutiny u nun',\n",
       " 'clinton email scandal took root',\n",
       " 'jew blamed holocaust house lord event',\n",
       " 'disappearing middle electorate way le moderate past primary',\n",
       " 'hannity wikileaks proven everything conspiracy theorist said true',\n",
       " 'russia successfully test first ever hypersonic weapon',\n",
       " 'hulk actor mark ruffalo joined standing rock protest dapl',\n",
       " 'ap fact check republican debater fact',\n",
       " 'drop income inequality',\n",
       " 'walmart go grain obama america new thanksgiving ad',\n",
       " 'senate make history confirming loretta lynch u attorney general',\n",
       " 'manhunt escaped killer expands vermont',\n",
       " 'path total dictatorship america shadow government silent coup',\n",
       " 'youth day election another world possible',\n",
       " 'physical gold demand fear',\n",
       " 'protester charged shooting officer ferguson',\n",
       " 'comment u war iran already begun',\n",
       " 'locker room talk lock talk',\n",
       " 'gop brace trump loss roiled refusal accept election result',\n",
       " 'one old vhs tape may worth',\n",
       " 'obama trump unfit serve president',\n",
       " 'pope francis met kim davis matter fight religious freedom video',\n",
       " 'study phytochemical found broccoli cauliflower attack prostate cancer cell',\n",
       " 'david duke win louisiana senate debate landslide despite blm riot',\n",
       " 'paris tragedy could shake race',\n",
       " 'hillary clinton radioactive sot',\n",
       " 'first gop debate six thing look charleston',\n",
       " 'black hawk crash florida human remains found',\n",
       " 'video creepy clown get pistol whipped',\n",
       " 'vision thing information',\n",
       " 'drudge koch soros bezos non politician determine next president',\n",
       " 'way knowing',\n",
       " 'obama putin outline competing vision syria',\n",
       " 'comment police officer wife caught faking robbery scheme frame black life matter cat vagina nasty woman',\n",
       " 'gop losing walmart',\n",
       " 'supreme court decides weigh transgender right',\n",
       " 'hillary clinton charged obstruction justice could go prison year',\n",
       " 'top secret email clinton server discussed drone program may reference classified info',\n",
       " 'miracle man metaxas v closed mind closed universe',\n",
       " 'obamacare premium spike average',\n",
       " 'collective consciousness individual gone',\n",
       " 'obama gun control emotional evolution',\n",
       " 'scientist found inside year old pot changing history',\n",
       " 'clock ticking republican still serious obamacare alternative',\n",
       " 'trump tread tradition new hampshire',\n",
       " 'gop presidential candidate hammer top secret clinton email final day iowa caucus',\n",
       " 'cleveland justice department reach policing deal',\n",
       " 'physicist say consciousness considered state matter non physical real',\n",
       " 'gop weekend courtesy koch network citizen united',\n",
       " 'juan williams bet trump clinton vice presidential pick',\n",
       " 'trump clinton framing closing argument',\n",
       " 'scott walker questioning obama faith',\n",
       " 'hillary greatest accomplishment',\n",
       " 'iranian spend b beauty product annually time european counterpart',\n",
       " 'sander trump easily win west virginia primary trump pick nebraska',\n",
       " 'clinton sander face st democrat debate',\n",
       " 'innorthdakota palestinian stand sioux',\n",
       " 'human remains suggest explosion brought egyptair plane forensics official say',\n",
       " 'u official scanning terror database search paris attack suspect',\n",
       " 'isi declares kill palestinian one one yet remains quiet israel',\n",
       " 'hillary political scientist',\n",
       " 'boom president reagan handled protester negotiate negotiate video percentfedup com',\n",
       " 'clinton pick first major labor endorsement',\n",
       " 'link',\n",
       " 'obama syria war unlikely end presidency',\n",
       " 'blue brave illinois town rally around police search officer killer go',\n",
       " 'senate advance bill approve keystone pipeline despite obama veto threat',\n",
       " 'comment indoor gardening made easy nutritower indoor gardening made easy nutritower collective evolutiongardening business news uk gardening business news uk',\n",
       " 'u abstains un vote calling end cuban embargo',\n",
       " 'young turk find trump lose utah republican first time decade video',\n",
       " 'comment mayor de blasio claim hot dog cart causing global warming dr eowyn',\n",
       " 'momentum bar syrian refugee slows',\n",
       " 'new evidence legal immigration system discriminates latin american',\n",
       " 'america might deserve trump dems hillary deserved lose',\n",
       " 'medium turn blind eye hillary clinton glaring mistake',\n",
       " 'state department admits deliberately cutting briefing footage iran deal',\n",
       " 'u economy added job october beating expectation',\n",
       " 'hillary clinton narrowly win kentucky state bernie sander needed huge margin',\n",
       " 'world war',\n",
       " 'killed shooting florida nightclub possible act islamic terror',\n",
       " 'another day life clinton crime family',\n",
       " 'muslim regularly use inshallah god willing arabic nobody call christophobic hate speech deus vult god willing latin graffiti called islamophobic crusader hate speech',\n",
       " 'extreme rhetoric helping cruz trump duke leader say',\n",
       " 'hillary clinton fbi real november surprise information',\n",
       " 'benghazi bust trey gowdy gop colleague embarrassed',\n",
       " 'obama seek global climate pact paris amid resistance home',\n",
       " 'death possibly linked superbug ucla hospital infected exposed',\n",
       " 'breaking ivanka trump make tragic announcement donald trump supporter shocked video prophecy',\n",
       " 'gop senator silence entire room remark war hero opponent heritage debate',\n",
       " 'pm election day water cooler',\n",
       " 'news somber moment cub fan world still sad princess diana celebrate cub world series',\n",
       " 'clinton medium campaign follows buzzfeed model',\n",
       " 'facebook page could land fema camp',\n",
       " 'watching isi terrorist get blown smithereens sure brighten day',\n",
       " 'exclusive lawsuit dispute tax tied trump company',\n",
       " 'dog probably better healthcare',\n",
       " 'get ready civil unrest survey find american concerned election violence',\n",
       " 'historic first fill evening democratic national convention',\n",
       " 'retired bishop explains catholic church invented hell watch',\n",
       " 'cruz camp responds rubio photoshop flap brush criticism',\n",
       " 'fly zone help people aleppo',\n",
       " 'expert recommend breaking crushing defeat smaller manageable failure onion america finest news source',\n",
       " 'comment score one second amendment pizza hut worker shoot kill attempted robber lynnmccrann',\n",
       " 'war drug heading wrong direction',\n",
       " 'begin crowd mass major city dc la nyc philly portland escalate chance widespread violence',\n",
       " 'hillary fan sleep rally snoozy smurf steal show abc news coconut creek fla',\n",
       " 'neighbor smell smoke muslim home see window horrific',\n",
       " 'ben carson throw support behind donald trump',\n",
       " 'middle east crisis trump inherits could still suck',\n",
       " 'clinton trump view isi putin u general',\n",
       " 'john kirby u state department blatantly support terrorist henry kamens',\n",
       " 'paul ryan big speaker hangup reportedly family male lawmaker unusual',\n",
       " 'mccarthy withdraws speaker race vote postponed',\n",
       " 'joe giambrone hollywood shameless underhanded assault political truth',\n",
       " 'immigration swamp',\n",
       " 'blame government market monopoly',\n",
       " 'america already strong obama continues democrat optimism',\n",
       " 'dnc mysteriously hacked oppo file trump big yawn',\n",
       " 'hillary clinton role whatsoever american soldier ground iraq',\n",
       " 'donald trump key success opinion',\n",
       " 'first time trump shrink spotlight fiorina steal show',\n",
       " 'carrot top give nobel award drive thru window',\n",
       " 'scott walker stealth strategy',\n",
       " 'gauis publius tpp picked powerful enemy black life matter',\n",
       " 'training french soldier supervise daesh',\n",
       " 'let make last endless american election',\n",
       " 'november finally abridged election day resource guide',\n",
       " 'going back future',\n",
       " 'bad night front runner good night governor',\n",
       " 'public funding election make politics even polarized',\n",
       " 'gaming obamacare',\n",
       " 'anatomy crisis decline u empire',\n",
       " 'uncovered audio hillary adamantly illegal immigrant',\n",
       " 'obama say world address grievance terrorist exploit',\n",
       " 'way prepare economic crisis',\n",
       " 'press must share blame shallow rating obsessed medium responsible trump gop',\n",
       " 'day thing hillary indicted extreme violence expected',\n",
       " 'daesh abducts near mosul use human shield un',\n",
       " 'oregon standoff leader acquitted malheur wildlife refuge takeover',\n",
       " 'muslim start chanting allah plane flight attendant quickly shuts',\n",
       " 'netanyahu iran threat israel world',\n",
       " 'unprecedented surge election fraud incident around country',\n",
       " 'doj ag loretta lynch advised fbi director keep new email congress',\n",
       " 'report said trump donation vet might shady response predictable',\n",
       " 'confidence deficit impacting election',\n",
       " 'anonymous hacker deric lostutter face year prison steubenville rapist walk free',\n",
       " 'mccain pledge help pentagon fix scandal excessive military bonus',\n",
       " 'romney timely trump trolling',\n",
       " 'like concentration camp police mark dapl protester number lock dog kennel',\n",
       " 'intersectional time elitist exclusionary',\n",
       " 'sharpened debate ethical vote year president',\n",
       " 'world witness breathtaking century event',\n",
       " 'forbidden history secret egyptology exposed',\n",
       " 'american public longer deal limitless corruption government',\n",
       " 'trust obama look sick thing stab trump back liberty writer news',\n",
       " 'ryan far prof make sausage likely serving much different house party',\n",
       " 'attorney general nominee offer careful backing obama policy',\n",
       " 'end white christian america nigh country youth abandoning religious conservatism',\n",
       " 'nuclear war break korean peninsula',\n",
       " 'strong job number hold risk clinton',\n",
       " 'sander warns clinton moderate vp',\n",
       " 'hacking accusation russia sign washington desperation',\n",
       " 'architect paris attack killed raid french authority say',\n",
       " 'dr macdonald dr duke expose vicious war trump jewish establishment',\n",
       " 'conservative refuse believe obama christian',\n",
       " 'donald trump beating fox news gop rival',\n",
       " 'election weaponization american public',\n",
       " 'obama seek calm fear terrorism ahead holiday season',\n",
       " 'comical larry cable guy slam indefensible hypocrisy donna brazile',\n",
       " 'hillary clinton lead day election day',\n",
       " 'democratic debate fact checking candidate',\n",
       " 'teenage boy knock classmate assaulting female teacher face epic',\n",
       " 'carson take lead trump new national poll',\n",
       " 'hillary winning many pundit even left',\n",
       " 'meteor space junk rocket mysterious flash hit siberia',\n",
       " 'takeaway republican debate',\n",
       " 'first time hearing asks office wanker',\n",
       " 'breaking new law stop hillary track officially ineligible run',\n",
       " 'lawmaker caught battle house ethic cop',\n",
       " 'new keefe video clinton campaign dnc coordinated organization incite violence trump event',\n",
       " 'like trampolining say hedgehog',\n",
       " 'president putin asks u stop provoking russia',\n",
       " 'yes clinton double standard',\n",
       " 'libertarian vp candidate give focus preventing trump presidency',\n",
       " 'always admirer donald trump taoiseach',\n",
       " 'waiting result opinion conservative',\n",
       " 'brotherjohnf silver update fake election',\n",
       " 'asked think hillary clinton never expected say',\n",
       " 'option bernie sander backer turn green party jill stein',\n",
       " 'trump clinton head sc fierce competition heel',\n",
       " 'non opec producer expected cut',\n",
       " 'trump team begin making list executive order erase obama presidency day one',\n",
       " 'trump shocking gop choice',\n",
       " 'trump skeptic got wrong',\n",
       " 'donald trump take back heart country',\n",
       " 'jeb bush fight lonely battle defending common core',\n",
       " 'donald trump resist blaming bill clinton sexism come',\n",
       " 'hillary clinton jump shark trump secret russian server conspiracy theory',\n",
       " 'clinton experience liability',\n",
       " 'obama outline plan keep troop afghanistan',\n",
       " 'biden backer naysayer fast',\n",
       " 'clinton enjoys post dnc bounce last',\n",
       " 'alabama prison official retaliate prison strike leader cutting water cell',\n",
       " 'texas police arrest trump voter wearing deplorable shirt',\n",
       " 'ngo condemn terrorist syria russia fighting foreign ministry',\n",
       " 'genetically modified crop u fail deliver expected yield',\n",
       " 'fatal expense american imperialism',\n",
       " 'comment group reluctant men hold kitten first time hilarity ensures para para dinle',\n",
       " 'house yank first spending bill floor',\n",
       " 'donald trump push republican party breaking point',\n",
       " 'trump clinton clash dueling dc speech',\n",
       " 'hillary clinton betrayed family voting trump',\n",
       " 'camp camp scuffle break hungary train station police stop migrant train',\n",
       " 'green party margaret flower challenge u senate debate maryland undemocratic',\n",
       " 'minimum wage went extreme enacted',\n",
       " 'asia trade deal hurt u worker six tough question answered',\n",
       " 'boycottcomedian robert deniro wanted punch trump face support anti trump rioter want american support new movie video',\n",
       " 'doctor find new life clown fulfilling gomerblog',\n",
       " 'city county leader ask court lift injunction obama immigration program',\n",
       " 'breaking bay pig veteran association endorses donald trump truthfeed',\n",
       " 'rigged election hillary trump caught partying kissinger jesuit gala',\n",
       " 'democrat clinton sander pounce flint water crisis',\n",
       " 'israel everlasting',\n",
       " 'sander better match trump',\n",
       " 'georgia abandon ukraine anti russian obsession archil sikharulidze',\n",
       " 'trump vow renovate bill right',\n",
       " 'people europe full fear refugee influx',\n",
       " 'cnn breaking news trump tell supporter vote multiple time',\n",
       " 'gop would unite trump peril',\n",
       " 'hillary big tent obama grand bargain steroid',\n",
       " 'kasich bow right thing',\n",
       " 'october daily contrarian read',\n",
       " 'western medium teleported child victim homs aleppo photo video',\n",
       " 'sad truth melania trump plagiarism snafu',\n",
       " 'comey bombshell really shake race',\n",
       " 'rating obama say success',\n",
       " 'james comey taken know much clinton',\n",
       " 'noun verb donald trump rubio seek seize murphy flaw',\n",
       " 'true scandal torture chelsea manning',\n",
       " 'opec see oil price exploding barrel',\n",
       " 'clinton inc watch pain msm report clinton corruption',\n",
       " 'united state v texas biggest immigration case century explained',\n",
       " 'dare restrain laughing trump hillary stronger hot show',\n",
       " 'ufo investigator max spiers found dead vomiting black liquid',\n",
       " 'jewish press release audio tape exposing hillary clinton plotting rig election',\n",
       " 'clinton campaign stunned fbi reportedly reopens probe hillary clinton email',\n",
       " 'middle east sick state',\n",
       " 'physicist found hint elusive particle antiparticle',\n",
       " 'shock nsa recover hillary deleted email',\n",
       " 'white house monitoring iran aid ship yemen',\n",
       " 'trump still likely fall delegate short nomination',\n",
       " 'trump sander trade blame chicago protest',\n",
       " 'electronic voting machine caught switching trump vote hillary trying steal texas survival',\n",
       " 'gas price could drop toward gallon',\n",
       " 'saber rattling saudi iran got ominous',\n",
       " 'india stonehenge year old megalithic site oldest observatory south asia',\n",
       " 'top u general pleads troop revolt',\n",
       " 'director comey jumped chance reopen hillary investigation',\n",
       " 'poll obama popularity upswing',\n",
       " 'bloomberg backed pennsylvania attorney general sentenced month prison',\n",
       " 'birthday surprise coming hillary criminalton kim dotcoms mysterious tweet',\n",
       " 'rachel maddow made fight reason tense hillary bernie firework',\n",
       " 'past case suggest hillary indicted',\n",
       " 'u split along racial line backlash police poll find',\n",
       " 'medium unload donald trump',\n",
       " 'reduce stress',\n",
       " 'popular health exchange jeopardy surprise republican win',\n",
       " 'first space photo earth shot third reich rocket',\n",
       " 'hillary slam dunk',\n",
       " 'russia india expand military cooperation focus navy project russia india report',\n",
       " 'make music great trumped album cover',\n",
       " 'cnn talker famous saying pu air lash newt saying megyn obsessed sex',\n",
       " 'senate gop leaving tea party primary battle behind',\n",
       " 'meet man started illuminati',\n",
       " 'anti trump delegate responsible nominating',\n",
       " 'syria un envoy appalled rebel attack civilian aleppo',\n",
       " 'collusion facebook hillary campaign revealed clinton email',\n",
       " 'pro obama super pac shift focus possible clinton bid',\n",
       " 'dead colorado spring planned parenthood shooting',\n",
       " 'report refugee camp calais france jungle',\n",
       " 'trump refuse say whether accept election result',\n",
       " 'fiorina blame environmentalist california drought',\n",
       " 'ag lynch told fbi director comey go public new clinton email investigation',\n",
       " 'fbi reopens clinton investigation new email found comey',\n",
       " 'congress knew least two year pentagon effort take back bonus veteran',\n",
       " 'guilty verdict returned american sniper murder trial',\n",
       " 'marco rubio rise gop rival reluctant take directly',\n",
       " 'trump skip gop debate feud fox news boil',\n",
       " 'dark agenda behind globalism open border',\n",
       " 'reason starting world war middle east really bad idea',\n",
       " 'fifteen year nato bombing montenegro want join nato',\n",
       " 'part patriot act expire even senate move bill limiting surveillance',\n",
       " 'u charge india based scam involving victim',\n",
       " 'u kurdish troop involved invading isi capital raqqa',\n",
       " 'kasich voter starting pay attention',\n",
       " 'michael moore owes',\n",
       " 'gesture thanks turkey arrest terrorist extradition russia',\n",
       " 'jack heart lucifer temple dog',\n",
       " 'president obama really really really really hate maureen dowd',\n",
       " 'u congressional delegation travel cuba weekend',\n",
       " 'democrat killed obama college saving plan',\n",
       " 'clinton take first step dispel doubt candidacy',\n",
       " 'guardian front page year old migrant cry',\n",
       " 'restaurant chain tim hortons block independent journalist website wifi',\n",
       " 'raising social security retirement age really hurt poor',\n",
       " 'afghanistan die air attack hospital u investigating',\n",
       " 'trump make last minute push appeal white onion america finest news source',\n",
       " 'new memorial flight loved one left legacy u',\n",
       " 'fact checking fourth round gop debate',\n",
       " 'onpolitics politics blog',\n",
       " 'clinton campaign cooperated politico demystifying huma abedin',\n",
       " 'learned speaking r n c attendee every state',\n",
       " 'zakharova kiev talk armed osce mission disinformation',\n",
       " 'final vote patriot act trade deal bill set dramatic stage congress return',\n",
       " 'write donald trump political obituary yet surging ben carson look like flavor month',\n",
       " 'manny pacquiao son dead report say jimuel pacquiao dy asthm complication morning news usa',\n",
       " 'hillary clinton postapocalyptic hellscape plan',\n",
       " 'carmel institute celebrates th anniversary jazz concert',\n",
       " 'trump twitter access revoked onion america finest news source',\n",
       " 'raise wage paul krugman shatters myth afford boost worker pay',\n",
       " 'obama arctic trip come climate change build issue',\n",
       " 'youtube censoring video censorship',\n",
       " 'hillary clinton proactively set ethic rule',\n",
       " 'israel hawk pope francis stay politics',\n",
       " 'budgeting good war year',\n",
       " 'anti clinton revolt among american elite gain momentum',\n",
       " 'american funhouse manufacturing consent',\n",
       " 'hillary clinton appoint old world nationalist cabinet position',\n",
       " 'clinton trump must debate stage win night',\n",
       " 'clinton trump would bring war time posture white house',\n",
       " 'gop debate fear cauldron according republican candidate going die',\n",
       " 'clinton hold narrow lead trump eve convention',\n",
       " 'kevin mccarthy announces candidate house speaker video',\n",
       " 'guide paradoxroutine',\n",
       " 'time warner merger another medium consolidation put profit consumer',\n",
       " 'fall house bush last name donald trump doomed jeb',\n",
       " 'mitt romney fan speculation another white house run',\n",
       " 'u airstrike kill four iraqi troop near mosul',\n",
       " 'tolerant liberal show nothing contempt hatred toward nation black supreme court justice',\n",
       " 'u v politics treated like football game one win',\n",
       " 'manhunt shift lone cabin upstate new york prisoner hideout',\n",
       " 'armed dakota access contractor accused trying infiltrate water protector',\n",
       " 'state swat team drill prep backlash stolen election',\n",
       " 'michael moore joe blow vote trump ultimate f elite human molotov cocktail',\n",
       " 'beer le vodka russian mull ongoing crisis rustem falyakhov',\n",
       " 'stop vendetta planned parenthood',\n",
       " 'understanding propaganda art distraction disinformation',\n",
       " 'huffington post continues campaigning hillary clinton',\n",
       " 'trunews dr lance wallnau answered prayer cabal crumbles',\n",
       " 'ted cruz victory show gop impossible conundrum video',\n",
       " 'tea party congressman called armed uprising trump loses',\n",
       " 'u pullout yemen eas pressure al qaeda lawmaker warn',\n",
       " 'obama trade bill trouble',\n",
       " 'secret service testing way intercept rogue drone late night flight washington',\n",
       " 'source baltimore mayor ordered police stand',\n",
       " 'marketwatch leftist msm blatant anti trump bias may suicidal',\n",
       " 'jane sander fbi get clinton email probe',\n",
       " 'happy new year wall street congress another gift',\n",
       " 'left turn bob dylan pro israel view refusal acknowledge nobel prize',\n",
       " 'facebook nazi thought police editor threaten quit mark zuckerberg ban donald trump hate speech',\n",
       " 'rival slam trump violent rally incites violence',\n",
       " 'oklahoma fraternity closed video racist chant',\n",
       " 'jeb bush good bad ugly',\n",
       " 'whirlwind day c showcase trump unorthodox view shifting tone',\n",
       " 'andrew maguire paper gold market trade jaw dropping tonne one day',\n",
       " 'hillary presidency would bring',\n",
       " 'supreme court ready blockbuster ruling',\n",
       " 'happen mosul isi evicted',\n",
       " 'mall america close first time ever thanksgiving',\n",
       " 'former director national budget warns market tank u election',\n",
       " 'delete account episode get sick',\n",
       " 'cnn reach new low call sheriff clarke terrorist trump gave important job endingfed news network',\n",
       " 'smithsonian refuse include judge black museum normal people opinion',\n",
       " 'iran nuclear deal obama want israel commit suicide',\n",
       " 'syrian war report november russian attack helicopter swarm homs province vineyard saker',\n",
       " 'bernie swan song begin',\n",
       " 'would trump presidency threaten rule law',\n",
       " 'google god',\n",
       " 'bernie sander say medium trump gutless political coward',\n",
       " 'sander delegate convention agenda',\n",
       " 'necessary break law improve standard living',\n",
       " 'paris climate summit expect historic talk',\n",
       " 'trump doctor letter take cholesterol drug overweight excellent health',\n",
       " 'game changer trump supporter charged voter fraud case',\n",
       " 'supreme court right speedy trial end declared guilty',\n",
       " 'told zika virus harmless',\n",
       " 'debating future american power abroad',\n",
       " 'sesame seed knee osteoarthritis',\n",
       " 'finally get work',\n",
       " 'trick treater get sock rocked badass hillary pumpkin outside',\n",
       " 'amurexit nafta tpp wall street global policeman',\n",
       " 'islamic state accepts boko haram allegiance pledge',\n",
       " 'wife muslim jihadist killed wounded orlando nightclub massacre say knew nothing',\n",
       " 'farming invented many time many different farmer vast landscape carlzimmer nytimes russia news',\n",
       " 'netanyahu warns iran deal could threaten survival israel',\n",
       " 'comey reopened hillary investigation',\n",
       " 'hillary leaked audio discussing rigging election palestine',\n",
       " 'brussels trump strength resonates gop voter video',\n",
       " 'intercept out neocon democrat smear trump putin puppet eric zuesse',\n",
       " 'done deal clinton trump shift general election big win',\n",
       " 'told american medium controlled six corporation',\n",
       " 'steve quayle economic collapse world war u election',\n",
       " 'brian williams chopper whopper say modern news medium',\n",
       " 'republican little reason act immigration today also primary',\n",
       " 'need see trump tax need real medical report',\n",
       " 'police morale wait baltimore riot reshape attorney general loretta lynch agenda',\n",
       " 'militarized police standing rock working man',\n",
       " 'bundy ranch occupier acquitted count challenging corrupt bureau land management',\n",
       " 'truth atlantis video',\n",
       " 'major corporate sponsor scaling back support gop convention',\n",
       " 'admit love tax day opinion',\n",
       " 'western qld drover show solidarity c u b worker drinking sauv blanc betoota advocate',\n",
       " 'cnbc confirmed comey abusing power help trump',\n",
       " 'jason chaffetz exposed hillary clinton plan bribe fbi agent let go',\n",
       " 'obama baltimore new',\n",
       " 'u ruling daesh involvement afghanistan offensive',\n",
       " 'united state pre positioning enemy asset preparation rigged election',\n",
       " 'booze brand polarize like politician',\n",
       " 'greece iran seem willing take world video',\n",
       " 'comment second one virginia cop caught bragging killing two unarmed people jamieson',\n",
       " 'hillary clinton promise steady leadership job historic speech',\n",
       " 'news election night disaster john king tapped electoral college map hard fell headfirst digital hellscape',\n",
       " 'clinton email investigation shifted poll significantly trump favor',\n",
       " 'people power native declare treaty right police admit defeat cite lack manpower remove dapl protester',\n",
       " 'obama u cannot solve world problem alone',\n",
       " 'hacker eroded american trust democratic process',\n",
       " 'boy autism make first friend ever mom stop cry',\n",
       " 'julian assange october surprise revealed',\n",
       " 'first contact film trailer',\n",
       " 'economist sign letter urging america vote donald trump',\n",
       " 'come job finally',\n",
       " 'walker departure mean gop field',\n",
       " 'julian assange end suspense source hacked email russia',\n",
       " 'dem operative oversaw trump rally agitator visited white house time',\n",
       " 'trump tsunami incoming trump florida today make president',\n",
       " 'trump star vandalized hollywood walk fame onion america finest news source',\n",
       " 'obama trip ethiopia alarm human right activist',\n",
       " 'nearly wild animal face mass extinction',\n",
       " 'illegal immigrant could elect hillary',\n",
       " 'food contain vitamin e alternative',\n",
       " 'trey gowdy word loretta lynch talking comey',\n",
       " 'northern sea route new prospect pacific rim new eastern outlook',\n",
       " 'cruz campaign could stopped trump rubio became running mate',\n",
       " 'free summit health expert teach healthy fat reverse disease lose weight',\n",
       " 'kentucky governor electing hillary clinton may eventually lead violence',\n",
       " 'contaminated food china entering u organic label',\n",
       " 'forget wikileaks real october surprise going stop hillary',\n",
       " 'donald trump next president united state america',\n",
       " 'day counting civil war matter win election',\n",
       " 'internet fire speculation podesta email contain code child sex',\n",
       " 'inside jeb shock awe launch',\n",
       " 'southern poverty law center target anti jihad crusader ann corcoran honored',\n",
       " 'babylon mystery religion series',\n",
       " 'relief effort find survivor intensify amid powerful aftershock',\n",
       " 'early primary calendar set change',\n",
       " 'trump accept cruz endorsement',\n",
       " 'federalism',\n",
       " 'confirmed public overwhelmingly say medium want hillary win',\n",
       " 'mitt romney call donald trump phony fraud trump hit back',\n",
       " 'jamaica obama indicates remove cuba terrorism list',\n",
       " 'turkey round erdogan political opponent crackdown widens',\n",
       " 'trump controlled mossad',\n",
       " 'poll longer rigged election',\n",
       " 'new lunar crater mystery space news',\n",
       " 'cruz immigration gambit',\n",
       " 'donald trump win presidency historic victory',\n",
       " 'trump slam gop nominating process top aide accuses cruz gestapo tactic win delegate',\n",
       " 'battle age',\n",
       " 'discrimination condemnation australia war boat people',\n",
       " 'obama hit trail hillary clinton help hurt',\n",
       " 'scalia death come month court biggest abortion case year',\n",
       " 'empire file inside palestine refugee camp',\n",
       " 'new saudi king ascends throne terrorism threat grows',\n",
       " 'another deadline looming whisper iran nuclear deal emerge',\n",
       " 'donald trump clintonesque foreign policy',\n",
       " 'israeli trumpess',\n",
       " 'comment sheriff say cannabis make people murderer rational thought lead violence isaid dilligaf',\n",
       " 'seven world historical achievement iraq invasion',\n",
       " 'major voter fraud already running rampant republican',\n",
       " 'backer romney open',\n",
       " 'yes paid government troll social medium blog forum website',\n",
       " 'real reason hillary prosecuted email scandal infuriate',\n",
       " 'rachel dolezal assertion black could pave way folk choosing racial identity',\n",
       " 'brexit law',\n",
       " 'tsarnaev mom american terrorist',\n",
       " 'islamophobia oklahoma gop state rep say islam cancer nation need cut',\n",
       " 'welcome paris tour bus navigate around new muslim tent city filling street',\n",
       " 'clinton brace nevada nail biter',\n",
       " 'israeli trumpess',\n",
       " 'u insider russia leaked clinton email',\n",
       " 'smash gold silver happening shocking game changer gold silver unfolding',\n",
       " 'dad weird mood since',\n",
       " 'nato buildup eastern europe seen tip iceberg',\n",
       " 'california oregon want secede u trump election',\n",
       " 'top five thing watch tonight debate',\n",
       " 'nra admitted always lying obama confiscating gun',\n",
       " 'head medicare oversaw obamacare rollout step',\n",
       " 'republican protester say nearly killed trump say take',\n",
       " 'donald trump president confederacy southern strategy created gop civil war',\n",
       " 'former miss finland accuses trump sexual assault bringing number accuser',\n",
       " 'kerry order state department review record retention amid clinton email controversy',\n",
       " 'united state reformation fracture',\n",
       " 'sharp exchange election year polling offer thought rest u',\n",
       " 'romney reboot loser really fix problem',\n",
       " 'possible fix polarization american politics',\n",
       " 'ceta canada challenged eu chemical regulation time',\n",
       " 'tiny home banned u increasing rate govt criminalizes sustainable living',\n",
       " 'life third grader saw classmate lunch kept feeding lunch clogged door got school canceled',\n",
       " 'u face call walk away iran talk',\n",
       " 'netanyahu warns supporter may lose tuesday election',\n",
       " 'harry reid call trade push obama gop insanity',\n",
       " 'sex presidential city',\n",
       " 'san bernardino massacre horror affect u',\n",
       " 'netanyahu iran speech important congress least listen israel leader',\n",
       " 'obama warren absolutely wrong trade deal',\n",
       " 'guardian going friggin nut calais',\n",
       " 'swing state stunner trump edge key state',\n",
       " 'austrian disgrace jail muslim migrant dumped baby middle road got drunk enraged',\n",
       " 'modern history rigged u election',\n",
       " 'carly fiorina appear top tier reagan library debate',\n",
       " 'strange thing moving alaska chena river caught video',\n",
       " 'trump expected name running mate soon looking attack dog',\n",
       " 'president obama interview samantha bee rolling floor laughing video',\n",
       " 'end road john kasich',\n",
       " 'negotiator paris climate talk tossing kyoto model',\n",
       " 'happened quebec tried pas charter would banned religious attire public specifically prevent muslim woman hiding face',\n",
       " 'election growing global nuclear threat',\n",
       " 'barack juggle bibi vlad hillary',\n",
       " 'pentagon plan far u troop enter mosul',\n",
       " 'russian pianist denis matsuev terrorized u supporting putin',\n",
       " 'rand paul marco rubio feud cuba policy preview gop foreign policy debate',\n",
       " 'former gop representative call armed insurrection video',\n",
       " 'jeb bush blame iraq unrest obama',\n",
       " 'cop versus two informed teen refuse submit unlawful detainment',\n",
       " 'al qaeda rep say group directed paris magazine attack u issue travel warning',\n",
       " 'trump make secret deal prosecute hillary exchange concession',\n",
       " 'draw muhammad shooting say islamic state reach video',\n",
       " 'truly important item post election list thing protest',\n",
       " 'public v medium war',\n",
       " 'baltimore call federal police probe new search answer video',\n",
       " 'freedom rider organizing age hillary',\n",
       " 'iowa caucus closer think',\n",
       " 'entering u refugee would hard terrorist',\n",
       " 'crooked hillary investigation reopens democrat city push allow illegal immigrant voting',\n",
       " 'cnn call sheriff clarke terrorist trump considers giving incredible new job endingfed news network',\n",
       " 'town wisconsin pass law fine parent bully',\n",
       " 'moderate republican running congress anymore',\n",
       " 'supreme court consider redefining one person one vote principle',\n",
       " 'iowa nightmare revisited correct winner called caucus night',\n",
       " 'fbi investigating new clinton email onion america finest news source',\n",
       " 'revealing interview trump predicts massive recession intends eliminate national debt year',\n",
       " 'euro russian mar lander may exploded due software glitch',\n",
       " 'limitation randomised controlled trial',\n",
       " 'climate change opinion',\n",
       " 'obama gov scott walker need bone foreign policy',\n",
       " 'watch obama criticizes kenya president gay right stand right',\n",
       " 'shallow magnitude earthquake rattle central italy shake building rome',\n",
       " 'obama plan boost defense budget point brewing national security debate',\n",
       " 'trump clinton looking vp',\n",
       " 'trump hollywood walk fame star destroyed sledgehammer pick',\n",
       " 'gop nuclear option donald trump way beat scary',\n",
       " 'checking claim nobody anything wrong benghazi',\n",
       " 'winning indiana anybody guess',\n",
       " 'palin endorsement latest prize trump cruz battle conservative',\n",
       " 'refugee resettlement watch swept away north carolina',\n",
       " 'unravelling chattanooga know shooter',\n",
       " 'november kale',\n",
       " 'appear rule anymore',\n",
       " 'university missouri please immediately fire employee taunted medium',\n",
       " 'trump v clinton could reshape electoral map',\n",
       " 'trump ups ante indiana',\n",
       " 'plutocrat love jeb voter bush electability argument getting even weaker',\n",
       " 'u marine deployed norway near russian border first time since world war ii',\n",
       " 'julian assange published u election',\n",
       " 'pakistan expels india diplomat tit tat move',\n",
       " 'news shot detroit airport us new system control traveler',\n",
       " 'chris christie run beat hillary clinton',\n",
       " 'christie hide travel bill',\n",
       " 'russia deploys missile syria turkey shoot bomber',\n",
       " 'lawbreaking airbnb sends spam violates spam act',\n",
       " 'marco rubio self destructs new hampshire',\n",
       " 'comment entitled customer slam restaurant yelp happens next sheer badassery customize jersey',\n",
       " 'exclusive foreign isi fighter defend mosul frontline local flee',\n",
       " 'president united state america donald j trump',\n",
       " 'gop dying literally',\n",
       " 'michael bloomberg name technological unemployment next administration greatest conundrum',\n",
       " 'carly fiorina swipe trump look face',\n",
       " 'donald trump hillary clinton stand economic issue',\n",
       " 'anyone beat trump primary history say',\n",
       " 'morning plum get ready another ideological death struggle time climate',\n",
       " 'two point hillary clinton email fiasco',\n",
       " 'firm win mln u army contract south korea nci',\n",
       " 'terror attack dead kenya university',\n",
       " 'wall street hollywood medium sjws fail stop donald trump becoming america th president',\n",
       " 'robert durst hbo jinx charged murder',\n",
       " 'iraq offensive fail',\n",
       " 'hope hype hiroshima conceal obama dismal record nuclear disarmament',\n",
       " 'email found anthony weiner laptop doj blocked foundation probe',\n",
       " 'congress undermines u global economic standing',\n",
       " 'iran nuclear talk deal fall',\n",
       " 'election rape sexual assault accusation need taken seriously',\n",
       " 'democratic convention passionate end day one steady early drama',\n",
       " 'gop big money plan save senate',\n",
       " 'turn trump put investigator month destroyed email',\n",
       " 'russian navy move guided missile ship baltic',\n",
       " 'cruz blast trump phony conservative front cpac crowd',\n",
       " 'taking trump voter concern seriously mean listening actually saying',\n",
       " 'donald trump campaign terror billionaire channeled authoritarian rage soared top poll',\n",
       " 'brics country invest million russian gold deposit kira egorova',\n",
       " 'thing late obama issue desperate call global climate deal',\n",
       " 'hybrid war strategy africa introduction',\n",
       " 'going lose november th get prepped post election chaos checklist video',\n",
       " 'hiv cure almost complete scientist remove virus dna living tissue',\n",
       " 'vortex structured water video',\n",
       " 'missing gop debate stage future president opinion',\n",
       " 'senator seek living wage capitol hill contractor',\n",
       " 'brian williams fire shifting story iraq helicopter attack',\n",
       " 'getting minute sunlight per day stop depression',\n",
       " 'austria freedom party leader call chancellor angela merkel dangerous woman europe',\n",
       " 'sex scandal could change election',\n",
       " 'obama administration announces halt new coal lease',\n",
       " 'obamacare cancer treated quickly aggressively die',\n",
       " 'topic unlike muslim horse actually sense humor',\n",
       " 'irish tv channel killed weather presenter halloween',\n",
       " 'scientist claim found alien civilization',\n",
       " 'syrian living syria never revolution civil war terrorist sent government',\n",
       " 'president obama persistent puzzling passivity terrorism',\n",
       " 'baby bond plan black white wealth equality conservative could love',\n",
       " 'two time world champion kickboxing killed moscow video',\n",
       " 'jeb invisible man strategy',\n",
       " 'death million yemeni forgotten war',\n",
       " 'charlie hebdo attack suspect name photo released',\n",
       " 'ted cruz marco rubio debate mattered video',\n",
       " 'david sweat shot captured alive new york manhunt',\n",
       " 'texas county switch emergency paper ballot',\n",
       " 'police family fake robbery vandalizes home blame black life matter',\n",
       " 'obama open iran learned war republican foreign policy',\n",
       " 'bernie sander campaign make worry manage white house',\n",
       " 'dnc donor really think african american',\n",
       " 'leaked email show monsanto executive v p invited hillraiser fundraiser put clinton white house monsanto benefit',\n",
       " 'clinton multiple fbi investigation agent stymied',\n",
       " 'first iraqi troop enter mosul fighting remains largely suburb',\n",
       " 'shock video hillary need help climbing one single step florida truthfeed',\n",
       " 'vowing end two war obama may leave three behind',\n",
       " 'climate engineering cryosphere collapse',\n",
       " ...]"
      ]
     },
     "execution_count": 22,
     "metadata": {},
     "output_type": "execute_result"
    }
   ],
   "source": [
    "corpus"
   ]
  },
  {
   "cell_type": "code",
   "execution_count": 23,
   "id": "833eff03-e0ff-45ad-8fdd-4200e40ee56c",
   "metadata": {},
   "outputs": [
    {
     "data": {
      "text/plain": [
       "6335"
      ]
     },
     "execution_count": 23,
     "metadata": {},
     "output_type": "execute_result"
    }
   ],
   "source": [
    "len(corpus)"
   ]
  },
  {
   "cell_type": "code",
   "execution_count": 24,
   "id": "9e8053a7-9553-409c-9cf6-9c8168e67410",
   "metadata": {},
   "outputs": [],
   "source": [
    "cv = CountVectorizer()\n",
    "X = cv.fit_transform(corpus).toarray()"
   ]
  },
  {
   "cell_type": "code",
   "execution_count": 25,
   "id": "95973440-967c-481a-b3c1-36cbf9841587",
   "metadata": {},
   "outputs": [
    {
     "data": {
      "text/plain": [
       "array([[0, 0, 0, ..., 0, 0, 0],\n",
       "       [0, 0, 0, ..., 0, 0, 0],\n",
       "       [0, 0, 0, ..., 0, 0, 0],\n",
       "       ...,\n",
       "       [0, 0, 0, ..., 0, 0, 0],\n",
       "       [0, 0, 0, ..., 0, 0, 0],\n",
       "       [0, 0, 0, ..., 0, 0, 0]], dtype=int64)"
      ]
     },
     "execution_count": 25,
     "metadata": {},
     "output_type": "execute_result"
    }
   ],
   "source": [
    "X"
   ]
  },
  {
   "cell_type": "code",
   "execution_count": 26,
   "id": "4a7c5cc0-c67c-4e37-afbf-b1b6ba4b52bd",
   "metadata": {},
   "outputs": [],
   "source": [
    "Y = df['label'].iloc[:].values"
   ]
  },
  {
   "cell_type": "code",
   "execution_count": 27,
   "id": "f6056750-a616-4f11-886f-21230e4cd133",
   "metadata": {},
   "outputs": [
    {
     "data": {
      "text/plain": [
       "array(['FAKE', 'FAKE', 'REAL', ..., 'FAKE', 'REAL', 'REAL'], dtype=object)"
      ]
     },
     "execution_count": 27,
     "metadata": {},
     "output_type": "execute_result"
    }
   ],
   "source": [
    "Y"
   ]
  },
  {
   "cell_type": "code",
   "execution_count": 28,
   "id": "499c0e2f-bed2-45a1-b199-3ab27124d5ba",
   "metadata": {},
   "outputs": [],
   "source": [
    "# Train test Split\n",
    "from sklearn.model_selection import train_test_split\n",
    "X_train, X_test, Y_train, Y_test = train_test_split(X, Y,  test_size=0.2, random_state=101)"
   ]
  },
  {
   "cell_type": "code",
   "execution_count": 29,
   "id": "9041ef3f-36a1-42dd-806e-618899c47e15",
   "metadata": {},
   "outputs": [
    {
     "data": {
      "text/plain": [
       "array([[0, 0, 0, ..., 0, 0, 0],\n",
       "       [0, 0, 0, ..., 0, 0, 0],\n",
       "       [0, 0, 0, ..., 0, 0, 0],\n",
       "       ...,\n",
       "       [0, 0, 0, ..., 0, 0, 0],\n",
       "       [0, 0, 0, ..., 0, 0, 0],\n",
       "       [0, 0, 0, ..., 0, 0, 0]], dtype=int64)"
      ]
     },
     "execution_count": 29,
     "metadata": {},
     "output_type": "execute_result"
    }
   ],
   "source": [
    "X_train"
   ]
  },
  {
   "cell_type": "code",
   "execution_count": 30,
   "id": "88f7e88c-49a5-45c0-8067-3ffec65ba063",
   "metadata": {
    "tags": []
   },
   "outputs": [
    {
     "data": {
      "text/plain": [
       "array(['REAL', 'REAL', 'FAKE', ..., 'FAKE', 'FAKE', 'REAL'], dtype=object)"
      ]
     },
     "execution_count": 30,
     "metadata": {},
     "output_type": "execute_result"
    }
   ],
   "source": [
    "Y_train"
   ]
  },
  {
   "cell_type": "markdown",
   "id": "adbbfc22-2b7b-4262-a3f3-9131fe2c7365",
   "metadata": {},
   "source": [
    "# GaussianNB"
   ]
  },
  {
   "cell_type": "code",
   "execution_count": 31,
   "id": "27df48d9-4085-4c7e-bf87-eb11d55ace24",
   "metadata": {},
   "outputs": [],
   "source": [
    "from sklearn.naive_bayes import GaussianNB, MultinomialNB"
   ]
  },
  {
   "cell_type": "code",
   "execution_count": 32,
   "id": "646f40d3-2148-4761-96f6-43d48d822329",
   "metadata": {},
   "outputs": [
    {
     "data": {
      "text/plain": [
       "GaussianNB()"
      ]
     },
     "execution_count": 32,
     "metadata": {},
     "output_type": "execute_result"
    }
   ],
   "source": [
    "model_Gnb = GaussianNB()\n",
    "model_Gnb.fit(X_train, Y_train)"
   ]
  },
  {
   "cell_type": "code",
   "execution_count": 33,
   "id": "0016052a-407e-4f51-8c5a-318413183fd7",
   "metadata": {},
   "outputs": [],
   "source": [
    "Y_pred = model_Gnb.predict(X_test)"
   ]
  },
  {
   "cell_type": "code",
   "execution_count": 34,
   "id": "72c0ea25-baf5-4813-927a-69928f1613c1",
   "metadata": {},
   "outputs": [],
   "source": [
    "from sklearn.metrics import accuracy_score\n",
    "accuracy = accuracy_score(Y_test, Y_pred)"
   ]
  },
  {
   "cell_type": "code",
   "execution_count": 35,
   "id": "013a483e-0f93-43f7-9bf8-755b73794c40",
   "metadata": {},
   "outputs": [
    {
     "data": {
      "text/plain": [
       "0.6945540647198106"
      ]
     },
     "execution_count": 35,
     "metadata": {},
     "output_type": "execute_result"
    }
   ],
   "source": [
    "accuracy"
   ]
  },
  {
   "cell_type": "code",
   "execution_count": 36,
   "id": "44ba3518-e4ff-44d8-8c5b-847a65a35b49",
   "metadata": {},
   "outputs": [],
   "source": [
    "from sklearn.metrics import accuracy_score, confusion_matrix, classification_report"
   ]
  },
  {
   "cell_type": "code",
   "execution_count": 37,
   "id": "8ba87c9d-39cf-4f17-967a-ea87ddb5384a",
   "metadata": {},
   "outputs": [
    {
     "data": {
      "text/plain": [
       "array([[335, 279],\n",
       "       [108, 545]], dtype=int64)"
      ]
     },
     "execution_count": 37,
     "metadata": {},
     "output_type": "execute_result"
    }
   ],
   "source": [
    "confusion_matrix(Y_test, Y_pred)"
   ]
  },
  {
   "cell_type": "code",
   "execution_count": 38,
   "id": "8a37809e-ee31-4f3d-a665-75013b365aac",
   "metadata": {},
   "outputs": [
    {
     "name": "stdout",
     "output_type": "stream",
     "text": [
      "              precision    recall  f1-score   support\n",
      "\n",
      "        FAKE       0.76      0.55      0.63       614\n",
      "        REAL       0.66      0.83      0.74       653\n",
      "\n",
      "    accuracy                           0.69      1267\n",
      "   macro avg       0.71      0.69      0.69      1267\n",
      "weighted avg       0.71      0.69      0.69      1267\n",
      "\n"
     ]
    }
   ],
   "source": [
    "print(classification_report(Y_test, Y_pred))"
   ]
  },
  {
   "cell_type": "markdown",
   "id": "4c4af482-56b7-4aec-ba69-3cfbbfc18866",
   "metadata": {},
   "source": [
    "# MultinomialNB"
   ]
  },
  {
   "cell_type": "code",
   "execution_count": 39,
   "id": "adf73fc9-056f-4552-baed-8040c3c4822e",
   "metadata": {},
   "outputs": [
    {
     "data": {
      "text/plain": [
       "MultinomialNB()"
      ]
     },
     "execution_count": 39,
     "metadata": {},
     "output_type": "execute_result"
    }
   ],
   "source": [
    "model_Mnb = MultinomialNB()\n",
    "model_Mnb.fit(X_train, Y_train)"
   ]
  },
  {
   "cell_type": "code",
   "execution_count": 40,
   "id": "ebdef4ca-4a00-4e8e-8441-8cbff6448baa",
   "metadata": {},
   "outputs": [],
   "source": [
    "Y_pred = model_Mnb.predict(X_test)"
   ]
  },
  {
   "cell_type": "code",
   "execution_count": 41,
   "id": "8d2278f6-cb76-45e5-82cb-327072985dcf",
   "metadata": {},
   "outputs": [],
   "source": [
    "from sklearn.metrics import accuracy_score\n",
    "accuracy = accuracy_score(Y_test, Y_pred)"
   ]
  },
  {
   "cell_type": "code",
   "execution_count": 42,
   "id": "e42710dc-0404-440b-9b07-05fd8b6b2b43",
   "metadata": {},
   "outputs": [
    {
     "data": {
      "text/plain": [
       "0.8113654301499605"
      ]
     },
     "execution_count": 42,
     "metadata": {},
     "output_type": "execute_result"
    }
   ],
   "source": [
    "accuracy"
   ]
  },
  {
   "cell_type": "code",
   "execution_count": 43,
   "id": "b2209547-cd26-4a8f-98a5-ea799ddd6dea",
   "metadata": {},
   "outputs": [
    {
     "data": {
      "text/plain": [
       "array([[471, 143],\n",
       "       [ 96, 557]], dtype=int64)"
      ]
     },
     "execution_count": 43,
     "metadata": {},
     "output_type": "execute_result"
    }
   ],
   "source": [
    "confusion_matrix(Y_test, Y_pred)"
   ]
  },
  {
   "cell_type": "code",
   "execution_count": 44,
   "id": "5da64d17-f0b0-41da-b214-72686ca2785e",
   "metadata": {},
   "outputs": [
    {
     "name": "stdout",
     "output_type": "stream",
     "text": [
      "              precision    recall  f1-score   support\n",
      "\n",
      "        FAKE       0.83      0.77      0.80       614\n",
      "        REAL       0.80      0.85      0.82       653\n",
      "\n",
      "    accuracy                           0.81      1267\n",
      "   macro avg       0.81      0.81      0.81      1267\n",
      "weighted avg       0.81      0.81      0.81      1267\n",
      "\n"
     ]
    }
   ],
   "source": [
    "print(classification_report(Y_test, Y_pred))"
   ]
  },
  {
   "cell_type": "markdown",
   "id": "3ba8aac1-220d-40cf-afa1-26578a441d8b",
   "metadata": {},
   "source": [
    "# Model Saving"
   ]
  },
  {
   "cell_type": "code",
   "execution_count": 45,
   "id": "36be339d-95db-4f05-b10f-4261003b0d89",
   "metadata": {},
   "outputs": [],
   "source": [
    "import pickle\n",
    "file = 'DetectFakeNews.pkl'\n",
    "pickle.dump(model_Mnb,open(file,'wb'))"
   ]
  },
  {
   "cell_type": "code",
   "execution_count": null,
   "id": "39ae6790-16b8-41a4-932a-b195c99e6278",
   "metadata": {},
   "outputs": [],
   "source": []
  }
 ],
 "metadata": {
  "kernelspec": {
   "display_name": "Python 3 (ipykernel)",
   "language": "python",
   "name": "python3"
  },
  "language_info": {
   "codemirror_mode": {
    "name": "ipython",
    "version": 3
   },
   "file_extension": ".py",
   "mimetype": "text/x-python",
   "name": "python",
   "nbconvert_exporter": "python",
   "pygments_lexer": "ipython3",
   "version": "3.9.7"
  }
 },
 "nbformat": 4,
 "nbformat_minor": 5
}
